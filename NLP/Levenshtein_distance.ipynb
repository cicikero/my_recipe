{
 "cells": [
  {
   "cell_type": "code",
   "execution_count": 1,
   "id": "a031be01",
   "metadata": {},
   "outputs": [
    {
     "name": "stdout",
     "output_type": "stream",
     "text": [
      "単語1を入力してください: かなざわ\n",
      "単語2を入力してください: しながわ\n",
      "単語1: かなざわ\n",
      "単語2: しながわ\n",
      "レーベンシュタイン距離: 2\n"
     ]
    }
   ],
   "source": [
    "def levenshtein_distance(word1, word2):\n",
    "    \"\"\"\n",
    "    2つの単語のレーベンシュタイン距離を計算する関数\n",
    "    \"\"\"\n",
    "    m = len(word1)\n",
    "    n = len(word2)\n",
    "\n",
    "    # 2次元のDPテーブルを初期化\n",
    "    dp = [[0] * (n + 1) for _ in range(m + 1)]\n",
    "\n",
    "    # DPテーブルを更新してレーベンシュタイン距離を計算\n",
    "    for i in range(m + 1):\n",
    "        for j in range(n + 1):\n",
    "            if i == 0:\n",
    "                dp[i][j] = j\n",
    "            elif j == 0:\n",
    "                dp[i][j] = i\n",
    "            elif word1[i - 1] == word2[j - 1]:\n",
    "                dp[i][j] = dp[i - 1][j - 1]\n",
    "            else:\n",
    "                dp[i][j] = 1 + min(dp[i - 1][j], dp[i][j - 1], dp[i - 1][j - 1])\n",
    "\n",
    "    return dp[m][n]\n",
    "\n",
    "\n",
    "# 標準入力から単語を取得\n",
    "word1 = input(\"単語1を入力してください: \")\n",
    "word2 = input(\"単語2を入力してください: \")\n",
    "\n",
    "# レーベンシュタイン距離を計算\n",
    "distance = levenshtein_distance(word1, word2)\n",
    "\n",
    "# 結果を表示\n",
    "print(f\"単語1: {word1}\")\n",
    "print(f\"単語2: {word2}\")\n",
    "print(f\"レーベンシュタイン距離: {distance}\")\n"
   ]
  },
  {
   "cell_type": "code",
   "execution_count": null,
   "id": "4fe055aa",
   "metadata": {},
   "outputs": [],
   "source": []
  }
 ],
 "metadata": {
  "kernelspec": {
   "display_name": "Python 3 (ipykernel)",
   "language": "python",
   "name": "python3"
  },
  "language_info": {
   "codemirror_mode": {
    "name": "ipython",
    "version": 3
   },
   "file_extension": ".py",
   "mimetype": "text/x-python",
   "name": "python",
   "nbconvert_exporter": "python",
   "pygments_lexer": "ipython3",
   "version": "3.9.16"
  }
 },
 "nbformat": 4,
 "nbformat_minor": 5
}
