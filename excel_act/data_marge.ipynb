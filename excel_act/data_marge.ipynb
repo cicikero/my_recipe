{
 "cells": [
  {
   "cell_type": "code",
   "execution_count": 2,
   "id": "05f1e4b3",
   "metadata": {},
   "outputs": [],
   "source": [
    "import os\n",
    "import pandas as pd\n",
    "\n",
    "def get_data_from_excel(folder_path, sheet_name, column_name):\n",
    "    \"\"\"\n",
    "    指定したフォルダ内にあるExcelファイルから指定した情報を取得して、DataFrameにまとめて返す。\n",
    "    \n",
    "    Parameters:\n",
    "        folder_path (str): フォルダのパス。\n",
    "        sheet_name (str): 取得するシート名。\n",
    "        column_name (str): 取得する列名。\n",
    "        \n",
    "    Returns:\n",
    "        DataFrame: 取得した情報をまとめたDataFrame。\n",
    "    \"\"\"\n",
    "    data = []\n",
    "    for root, dirs, files in os.walk(folder_path):\n",
    "        for file in files:\n",
    "            if file.endswith('.xlsx') or file.endswith('.xls'):\n",
    "                file_path = os.path.join(root, file)\n",
    "                try:\n",
    "                    df = pd.read_excel(file_path, sheet_name=sheet_name)\n",
    "                except ValueError:\n",
    "                    print(f'Warning: Sheet \"{sheet_name}\" not found in file \"{file_path}\"')\n",
    "                    continue\n",
    "                if column_name not in df.columns:\n",
    "                    print(f'Warning: Column \"{column_name}\" not found in file \"{file_path}\"')\n",
    "                    continue\n",
    "                data.append(df[column_name])\n",
    "    if len(data) == 0:\n",
    "        raise ValueError('No data found in the specified folder.')\n",
    "    return pd.concat(data)\n",
    "\n",
    "\n",
    "# 使用例\n",
    "folder_path = './data'\n",
    "sheet_name = 'sheet1'\n",
    "column_name = 'number_a'\n",
    "result_df = get_data_from_excel(folder_path, sheet_name, column_name)\n",
    "result_df.to_csv('result.csv', index=False)\n"
   ]
  },
  {
   "cell_type": "code",
   "execution_count": null,
   "id": "6628f89c",
   "metadata": {},
   "outputs": [],
   "source": []
  }
 ],
 "metadata": {
  "kernelspec": {
   "display_name": "Python 3 (ipykernel)",
   "language": "python",
   "name": "python3"
  },
  "language_info": {
   "codemirror_mode": {
    "name": "ipython",
    "version": 3
   },
   "file_extension": ".py",
   "mimetype": "text/x-python",
   "name": "python",
   "nbconvert_exporter": "python",
   "pygments_lexer": "ipython3",
   "version": "3.9.16"
  }
 },
 "nbformat": 4,
 "nbformat_minor": 5
}
