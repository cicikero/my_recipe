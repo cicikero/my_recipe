{
 "cells": [
  {
   "cell_type": "code",
   "execution_count": 1,
   "id": "50705cfb",
   "metadata": {},
   "outputs": [],
   "source": [
    "import openpyxl\n",
    "\n",
    "# 新規Excelファイルを作成し、Sheet1を選択する\n",
    "workbook = openpyxl.Workbook()\n",
    "worksheet = workbook.active\n",
    "\n",
    "# ヘッダーを書き込む\n",
    "worksheet.cell(row=1, column=1, value='ID')\n",
    "worksheet.cell(row=1, column=2, value='Name')\n",
    "worksheet.cell(row=1, column=3, value='Age')\n",
    "\n",
    "# データを書き込む\n",
    "worksheet.cell(row=2, column=1, value='001')\n",
    "worksheet.cell(row=2, column=2, value='John')\n",
    "worksheet.cell(row=2, column=3, value=25)\n",
    "\n",
    "# Excelファイルを保存する\n",
    "workbook.save('example.xlsx')\n"
   ]
  },
  {
   "cell_type": "code",
   "execution_count": null,
   "id": "3f76f1c2",
   "metadata": {},
   "outputs": [],
   "source": []
  }
 ],
 "metadata": {
  "kernelspec": {
   "display_name": "Python 3 (ipykernel)",
   "language": "python",
   "name": "python3"
  },
  "language_info": {
   "codemirror_mode": {
    "name": "ipython",
    "version": 3
   },
   "file_extension": ".py",
   "mimetype": "text/x-python",
   "name": "python",
   "nbconvert_exporter": "python",
   "pygments_lexer": "ipython3",
   "version": "3.9.16"
  }
 },
 "nbformat": 4,
 "nbformat_minor": 5
}
