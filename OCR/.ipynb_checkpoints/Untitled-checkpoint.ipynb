{
 "cells": [
  {
   "cell_type": "code",
   "execution_count": 2,
   "id": "31f4fe2b",
   "metadata": {
    "scrolled": true
   },
   "outputs": [
    {
     "name": "stdout",
     "output_type": "stream",
     "text": [
      "抽出されたテキスト (英語):\n",
      "Bae EXFHOlOSS\n",
      "INHER BAB IM ITY\n",
      "\n",
      "A GIAB ROME: | C434 SF SARA HOO LE\n",
      "(ECHO, BOQCSNTHEv eis. SHAG AIRE T\n",
      "RRETHOCT, BA SB RHO, PEwIhOFs4\n",
      "6 FEORBINT, AOR DEAT SNK\n",
      "F-OAK, SLL OBB EOE T, FEA, ALT\n",
      "SROP' BROMLEY, EEAMOIMIIE TELS lA,\n",
      "UFAIPNIBS HY URS EDO, HODS OBNED\n",
      "\n",
      "Sh 8 mete nitthna sr =-— @ -AZAstazren Wena sn...\n",
      "\n",
      "抽出されたテキスト (日本語):\n",
      "百敷や 志き軒瑞のいしのぶにも\n",
      "なほ余りある落なりけり\n",
      "\n",
      "月日は百人氏の過補にして行き9 ふ年るまた区人なり。 船の上\n",
      "に生涯をめべ、伺のとらへて老いを迎ふる者け日々放にして\n",
      "旅をすみるとす。 坪人る多く放に死せるあり。 予るハブれの年より\n",
      "る、、方肢の風に読はれて、漂治の思ひやまず、沸22にさす>へ去\n",
      "年の衝、江上の破屋にくもの菓をかひて、 やや年も基れ、要立て\n",
      "る電の空に白河の関超えんと、そぞろ神の物につきて心をくるはせ、\n",
      "道宜利の紹きにあひて取るものにつぁる、ず、 ももひきの破れをつ\n",
      "\n",
      "ーーh 入る2をとをイイ村ムラ ーー要」に倒オスネテアトロ あい作のみ月まい\n",
      "\n"
     ]
    }
   ],
   "source": [
    "import cv2\n",
    "import pytesseract\n",
    "\n",
    "def extract_text_from_image(image_path, lang='eng'):\n",
    "    \"\"\"\n",
    "    画像からテキストを抽出する関数\n",
    "\n",
    "    :param image_path: 画像ファイルのパス\n",
    "    :param lang: 抽出するテキストの言語 (デフォルトは英語 'eng')\n",
    "    :return: 抽出されたテキスト\n",
    "    \"\"\"\n",
    "    # 画像の読み込み\n",
    "    image = cv2.imread(image_path)\n",
    "\n",
    "    # 画像をグレースケールに変換\n",
    "    gray = cv2.cvtColor(image, cv2.COLOR_BGR2GRAY)\n",
    "\n",
    "    # 画像をぼかし処理\n",
    "    blurred = cv2.GaussianBlur(gray, (5, 5), 0)\n",
    "\n",
    "    # 画像からテキストを抽出\n",
    "    text = pytesseract.image_to_string(blurred, lang=lang)\n",
    "\n",
    "    return text\n",
    "\n",
    "# 画像ファイルのパス\n",
    "image_path = 'pyocr_test_2.png'\n",
    "\n",
    "# 抽出するテキストの言語を指定してテキストを抽出\n",
    "text = extract_text_from_image(image_path, lang='eng')\n",
    "print('抽出されたテキスト (英語):')\n",
    "print(text)\n",
    "\n",
    "text = extract_text_from_image(image_path, lang='jpn')\n",
    "print('抽出されたテキスト (日本語):')\n",
    "print(text)\n"
   ]
  },
  {
   "cell_type": "code",
   "execution_count": null,
   "id": "044b1ff6",
   "metadata": {},
   "outputs": [],
   "source": []
  }
 ],
 "metadata": {
  "kernelspec": {
   "display_name": "Python 3 (ipykernel)",
   "language": "python",
   "name": "python3"
  },
  "language_info": {
   "codemirror_mode": {
    "name": "ipython",
    "version": 3
   },
   "file_extension": ".py",
   "mimetype": "text/x-python",
   "name": "python",
   "nbconvert_exporter": "python",
   "pygments_lexer": "ipython3",
   "version": "3.9.16"
  }
 },
 "nbformat": 4,
 "nbformat_minor": 5
}
