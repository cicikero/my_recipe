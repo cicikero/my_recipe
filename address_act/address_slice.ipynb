{
 "cells": [
  {
   "cell_type": "code",
   "execution_count": null,
   "id": "52420193",
   "metadata": {},
   "outputs": [],
   "source": [
    "#住所の文字列から都道府県名、市区町村名、それ以降をそれぞれ抽出して、DBに別途保存するPythonコード\n",
    "\n",
    "import re\n",
    "import sqlite3\n",
    "\n",
    "# DBに接続\n",
    "conn = sqlite3.connect(\"dummy_data.db\")\n",
    "cur = conn.cursor()\n",
    "\n",
    "# テーブルから住所を取得\n",
    "cur.execute(\"SELECT id, full_address FROM dummy_data\")\n",
    "rows = cur.fetchall()\n",
    "\n",
    "# 正規表現で市区町村名を抽出\n",
    "pattern = r\"(.+?[都道府県])(.+?[市区町村])(.+)\"\n",
    "for row in rows:\n",
    "    id = row[0]\n",
    "    address = row[1]\n",
    "    match = re.match(pattern, address)\n",
    "    if match:\n",
    "        prefecture = match.group(1)\n",
    "        # prefectureカラムに保存\n",
    "        cur.execute(\"UPDATE dummy_data SET prefecture = ? WHERE id = ?\", (prefecture, id))\n",
    "        city = match.group(2)\n",
    "        # cityカラムに保存\n",
    "        cur.execute(\"UPDATE dummy_data SET city = ? WHERE id = ?\", (city, id))\n",
    "        address1 = match.group(3)\n",
    "        # address1カラムに保存\n",
    "        cur.execute(\"UPDATE dummy_data SET address1 = ? WHERE id = ?\", (address1, id))\n",
    "\n",
    "# DBを閉じる\n",
    "conn.commit()\n",
    "conn.close()\n"
   ]
  }
 ],
 "metadata": {
  "kernelspec": {
   "display_name": "Python 3 (ipykernel)",
   "language": "python",
   "name": "python3"
  },
  "language_info": {
   "codemirror_mode": {
    "name": "ipython",
    "version": 3
   },
   "file_extension": ".py",
   "mimetype": "text/x-python",
   "name": "python",
   "nbconvert_exporter": "python",
   "pygments_lexer": "ipython3",
   "version": "3.9.16"
  }
 },
 "nbformat": 4,
 "nbformat_minor": 5
}
