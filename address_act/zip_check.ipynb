{
 "cells": [
  {
   "cell_type": "code",
   "execution_count": 9,
   "id": "43b9baa6",
   "metadata": {},
   "outputs": [
    {
     "name": "stdout",
     "output_type": "stream",
     "text": [
      "郵便番号を入力してください：３３９－００６１\n",
      "埼玉県 さいたま市岩槻区 岩槻\n"
     ]
    }
   ],
   "source": [
    "import csv\n",
    "\n",
    "def main():\n",
    "    # CSVファイルを読み込む\n",
    "    with open('KEN_ALL.CSV', 'r', encoding='shift_jis') as f:\n",
    "        reader = csv.reader(f)\n",
    "        # 標準入力から郵便番号を受け取る\n",
    "        zipcode = input('郵便番号を入力してください：')\n",
    "        # 全角を半角に変換する\n",
    "        zipcode = zipcode.translate(str.maketrans({'０':'0', '１':'1', '２':'2', '３':'3', '４':'4', '５':'5', '６':'6', '７':'7', '８':'8', '９':'9'}))\n",
    "        # ハイフンがある場合は除去する\n",
    "        zipcode = zipcode.replace('-', '').replace('－', '')\n",
    "        # CSVファイルから住所を検索する\n",
    "        for row in reader:\n",
    "            if row[2] == zipcode:\n",
    "                print(row[6], row[7], row[8])\n",
    "                break\n",
    "        else:\n",
    "            print('該当する住所が見つかりませんでした。')\n",
    "\n",
    "if __name__ == '__main__':\n",
    "    main()"
   ]
  },
  {
   "cell_type": "code",
   "execution_count": null,
   "id": "192fd53a",
   "metadata": {},
   "outputs": [],
   "source": []
  }
 ],
 "metadata": {
  "kernelspec": {
   "display_name": "Python 3 (ipykernel)",
   "language": "python",
   "name": "python3"
  },
  "language_info": {
   "codemirror_mode": {
    "name": "ipython",
    "version": 3
   },
   "file_extension": ".py",
   "mimetype": "text/x-python",
   "name": "python",
   "nbconvert_exporter": "python",
   "pygments_lexer": "ipython3",
   "version": "3.9.16"
  }
 },
 "nbformat": 4,
 "nbformat_minor": 5
}
