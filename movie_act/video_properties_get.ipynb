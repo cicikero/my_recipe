{
 "cells": [
  {
   "cell_type": "code",
   "execution_count": 1,
   "id": "9a28b15f",
   "metadata": {},
   "outputs": [
    {
     "name": "stdout",
     "output_type": "stream",
     "text": [
      "{'duration': 2199.82, 'size': [640, 360], 'fps': 29.97002997002997}\n"
     ]
    }
   ],
   "source": [
    "from moviepy.editor import VideoFileClip\n",
    "\n",
    "def get_video_properties(video_path):\n",
    "    # Load the video clip\n",
    "    clip = VideoFileClip(video_path)\n",
    "\n",
    "    # Get the duration of the clip in seconds\n",
    "    duration = clip.duration\n",
    "\n",
    "    # Get the size of the clip as a tuple of (width, height) in pixels\n",
    "    size = clip.size\n",
    "\n",
    "    # Get the frame rate of the clip in frames per second\n",
    "    fps = clip.fps\n",
    "\n",
    "    # Close the clip\n",
    "    clip.close()\n",
    "\n",
    "    # Return the properties as a dictionary\n",
    "    return {\"duration\": duration, \"size\": size, \"fps\": fps}\n",
    "\n",
    "# Example usage:\n",
    "video_path = \"ero1.mp4\"\n",
    "properties = get_video_properties(video_path)\n",
    "print(properties)\n"
   ]
  },
  {
   "cell_type": "code",
   "execution_count": null,
   "id": "429c007b",
   "metadata": {},
   "outputs": [],
   "source": []
  }
 ],
 "metadata": {
  "kernelspec": {
   "display_name": "Python 3 (ipykernel)",
   "language": "python",
   "name": "python3"
  },
  "language_info": {
   "codemirror_mode": {
    "name": "ipython",
    "version": 3
   },
   "file_extension": ".py",
   "mimetype": "text/x-python",
   "name": "python",
   "nbconvert_exporter": "python",
   "pygments_lexer": "ipython3",
   "version": "3.9.16"
  }
 },
 "nbformat": 4,
 "nbformat_minor": 5
}
