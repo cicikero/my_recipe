{
 "cells": [
  {
   "cell_type": "code",
   "execution_count": 8,
   "id": "bfc7bd78",
   "metadata": {},
   "outputs": [
    {
     "name": "stdout",
     "output_type": "stream",
     "text": [
      "Moviepy - Building video output1.mp4.\n",
      "Moviepy - Writing video output1.mp4\n",
      "\n"
     ]
    },
    {
     "name": "stderr",
     "output_type": "stream",
     "text": [
      "                                                                                                                                                                      \r"
     ]
    },
    {
     "name": "stdout",
     "output_type": "stream",
     "text": [
      "Moviepy - Done !\n",
      "Moviepy - video ready output1.mp4\n"
     ]
    }
   ],
   "source": [
    "# 複数の静止画像からタイムラプス動画を生成\n",
    "\n",
    "from moviepy.editor import ImageSequenceClip\n",
    "\n",
    "def create_timelapse(image_folder, output_path, size=(640, 360), fps=24):\n",
    "    # Load the images from the folder\n",
    "    image_files = sorted(os.listdir(image_folder))\n",
    "    images = [os.path.join(image_folder, f) for f in image_files if f.endswith(\".png\")]\n",
    "\n",
    "    # Create the image sequence clip\n",
    "    clip = ImageSequenceClip(images, fps=fps)\n",
    "\n",
    "    # Resize the clip to the specified size\n",
    "    clip = clip.resize(size)\n",
    "\n",
    "    # Write the clip to a video file\n",
    "    clip.write_videofile(output_path)\n",
    "\n",
    "# Example usage:\n",
    "image_folder = \"images\"\n",
    "output_path = \"output1.mp4\"\n",
    "size = (640, 360)\n",
    "fps = 24\n",
    "create_timelapse(image_folder, output_path, size, fps)\n"
   ]
  },
  {
   "cell_type": "code",
   "execution_count": null,
   "id": "fd0edb2a",
   "metadata": {},
   "outputs": [],
   "source": []
  }
 ],
 "metadata": {
  "kernelspec": {
   "display_name": "Python 3 (ipykernel)",
   "language": "python",
   "name": "python3"
  },
  "language_info": {
   "codemirror_mode": {
    "name": "ipython",
    "version": 3
   },
   "file_extension": ".py",
   "mimetype": "text/x-python",
   "name": "python",
   "nbconvert_exporter": "python",
   "pygments_lexer": "ipython3",
   "version": "3.9.16"
  }
 },
 "nbformat": 4,
 "nbformat_minor": 5
}
