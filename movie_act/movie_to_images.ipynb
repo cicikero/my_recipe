{
 "cells": [
  {
   "cell_type": "code",
   "execution_count": null,
   "id": "b5eb7856",
   "metadata": {},
   "outputs": [],
   "source": [
    "# 動画から連続した静止画像を生成\n",
    "\n",
    "from moviepy.editor import VideoFileClip\n",
    "from PIL import Image\n",
    "\n",
    "def extract_frames(video_path, num_frames, output_path, size=(640, 360), fps=24):\n",
    "    # Load the video clip\n",
    "    clip = VideoFileClip(video_path)\n",
    "\n",
    "    # Resize the clip to the specified size\n",
    "    clip = clip.resize(size)\n",
    "\n",
    "    # Set the frame rate of the clip\n",
    "    clip = clip.set_fps(fps)\n",
    "\n",
    "    # Iterate over the frames and extract them\n",
    "    for i, frame in enumerate(clip.iter_frames()):\n",
    "        if i >= num_frames:\n",
    "            break\n",
    "        output_file = f\"{output_path}/frame_{i:05d}.png\"\n",
    "        frame_image = Image.fromarray(frame)\n",
    "        frame_image.save(output_file)\n",
    "\n",
    "    # Close the clip\n",
    "    clip.close()\n",
    "\n",
    "# Example usage:\n",
    "video_path = \"ero1.mp4\"\n",
    "num_frames = 2199\n",
    "output_path = \"ero1\"\n",
    "size = (640, 320)\n",
    "fps = 1\n",
    "extract_frames(video_path, num_frames, output_path, size, fps)"
   ]
  }
 ],
 "metadata": {
  "kernelspec": {
   "display_name": "Python 3 (ipykernel)",
   "language": "python",
   "name": "python3"
  },
  "language_info": {
   "codemirror_mode": {
    "name": "ipython",
    "version": 3
   },
   "file_extension": ".py",
   "mimetype": "text/x-python",
   "name": "python",
   "nbconvert_exporter": "python",
   "pygments_lexer": "ipython3",
   "version": "3.9.16"
  }
 },
 "nbformat": 4,
 "nbformat_minor": 5
}
