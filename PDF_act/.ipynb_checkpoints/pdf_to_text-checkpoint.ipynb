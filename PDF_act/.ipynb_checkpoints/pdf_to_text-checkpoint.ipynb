{
 "cells": [
  {
   "cell_type": "code",
   "execution_count": null,
   "id": "8dab1549",
   "metadata": {},
   "outputs": [],
   "source": [
    " pdfminerモジュールをインポート\n",
    "from pdfminer.high_level import extract_text\n",
    "\n",
    "# テキストを抽出したいpdfファイルのパス\n",
    "pdf_path = \"archives_2022_12.pdf\"\n",
    "\n",
    "# pdfファイルからテキストを抽出\n",
    "text = extract_text(pdf_path)\n",
    "\n",
    "# テキストを出力したいテキストファイルのパス\n",
    "txt_path = \"output.txt\"\n",
    "\n",
    "# テキストファイルにテキストを書き込む\n",
    "with open(txt_path, \"w\", encoding=\"utf-8\") as f:\n",
    "    f.write(text)"
   ]
  }
 ],
 "metadata": {
  "kernelspec": {
   "display_name": "Python 3 (ipykernel)",
   "language": "python",
   "name": "python3"
  },
  "language_info": {
   "codemirror_mode": {
    "name": "ipython",
    "version": 3
   },
   "file_extension": ".py",
   "mimetype": "text/x-python",
   "name": "python",
   "nbconvert_exporter": "python",
   "pygments_lexer": "ipython3",
   "version": "3.9.16"
  }
 },
 "nbformat": 4,
 "nbformat_minor": 5
}
