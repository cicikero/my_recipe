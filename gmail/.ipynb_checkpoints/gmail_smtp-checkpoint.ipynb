{
 "cells": [
  {
   "cell_type": "code",
   "execution_count": 6,
   "id": "4df9ae03",
   "metadata": {},
   "outputs": [],
   "source": [
    "import smtplib\n",
    "from email.mime.text import MIMEText\n",
    "from email.utils import formatdate\n",
    "\n",
    "def send_email(to_addr, from_addr, subject, body, password):\n",
    "    # SMTPサーバーに接続\n",
    "    smtpobj = smtplib.SMTP('smtp.gmail.com', 587)\n",
    "    smtpobj.ehlo()\n",
    "    smtpobj.starttls()\n",
    "    smtpobj.login(from_addr, password)\n",
    "\n",
    "    # メッセージを作成\n",
    "    msg = MIMEText(body)\n",
    "    msg['Subject'] = subject\n",
    "    msg['From'] = from_addr\n",
    "    msg['To'] = to_addr\n",
    "    msg['Date'] = formatdate()\n",
    "\n",
    "    # メールを送信\n",
    "    smtpobj.sendmail(from_addr, to_addr, msg.as_string())\n",
    "\n",
    "    # SMTPサーバーから切断\n",
    "    smtpobj.quit()\n",
    "\n",
    "# 例として、送信先、送信元、件名、本文、アプリケーションパスワードを指定してメールを送信する\n",
    "to_addr = '*******@yahoo.co.jp'\n",
    "from_addr = '*******@gmail.com'\n",
    "subject = 'テスト'\n",
    "body = 'テストメールです。This is a test email'\n",
    "password = '*******'\n",
    "\n",
    "send_email(to_addr, from_addr, subject, body, password)\n"
   ]
  },
  {
   "cell_type": "code",
   "execution_count": null,
   "id": "fbd36aa0",
   "metadata": {},
   "outputs": [],
   "source": []
  }
 ],
 "metadata": {
  "kernelspec": {
   "display_name": "Python 3 (ipykernel)",
   "language": "python",
   "name": "python3"
  },
  "language_info": {
   "codemirror_mode": {
    "name": "ipython",
    "version": 3
   },
   "file_extension": ".py",
   "mimetype": "text/x-python",
   "name": "python",
   "nbconvert_exporter": "python",
   "pygments_lexer": "ipython3",
   "version": "3.9.16"
  }
 },
 "nbformat": 4,
 "nbformat_minor": 5
}
