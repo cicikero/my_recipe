{
 "cells": [
  {
   "cell_type": "code",
   "execution_count": 6,
   "id": "07fdabfc",
   "metadata": {},
   "outputs": [
    {
     "name": "stdout",
     "output_type": "stream",
     "text": [
      "37\n"
     ]
    }
   ],
   "source": [
    "def gcd(a, b):\n",
    "    \"\"\"\n",
    "    2つの整数aとbの最大公約数を返す。\n",
    "    \"\"\"\n",
    "    while b != 0:\n",
    "        a, b = b, a % b\n",
    "    return a\n",
    "\n",
    "print(gcd(629,481))\n"
   ]
  },
  {
   "cell_type": "code",
   "execution_count": 5,
   "id": "fe847a42",
   "metadata": {},
   "outputs": [
    {
     "name": "stdout",
     "output_type": "stream",
     "text": [
      "11\n"
     ]
    }
   ],
   "source": [
    "def gcd(a, b, c):\n",
    "    \"\"\"\n",
    "    3つの整数a、b、cの最大公約数を返す。\n",
    "    \"\"\"\n",
    "    # aとbの最大公約数を求める\n",
    "    while b != 0:\n",
    "        a, b = b, a % b\n",
    "    # aとcの最大公約数を求める\n",
    "    while c != 0:\n",
    "        a, c = c, a % c\n",
    "    # aが最大公約数となる\n",
    "    return a\n",
    "\n",
    "print(gcd(222222,44444444,9999))"
   ]
  },
  {
   "cell_type": "code",
   "execution_count": 7,
   "id": "eb6a6ee8",
   "metadata": {},
   "outputs": [
    {
     "name": "stdout",
     "output_type": "stream",
     "text": [
      "2832と3776の最大公約数は944です。\n",
      "2832と3776の最小公倍数は11328です。\n"
     ]
    }
   ],
   "source": [
    "def gcd(a, b):\n",
    "    \"\"\"\n",
    "    2つの自然数aとbの最大公約数を返す。\n",
    "    \"\"\"\n",
    "    while b != 0:\n",
    "        a, b = b, a % b\n",
    "    return a\n",
    "\n",
    "def lcm(a, b):\n",
    "    \"\"\"\n",
    "    2つの自然数aとbの最小公倍数を返す。\n",
    "    \"\"\"\n",
    "    return a * b // gcd(a, b)\n",
    "\n",
    "# 2つの自然数を変数として定義する\n",
    "num1 = 2832\n",
    "num2 = 3776\n",
    "\n",
    "# 最大公約数を求め、結果を出力する\n",
    "result_gcd = gcd(num1, num2)\n",
    "print(f\"{num1}と{num2}の最大公約数は{result_gcd}です。\")\n",
    "\n",
    "# 最小公倍数を求め、結果を出力する\n",
    "result_lcm = lcm(num1, num2)\n",
    "print(f\"{num1}と{num2}の最小公倍数は{result_lcm}です。\")\n"
   ]
  },
  {
   "cell_type": "code",
   "execution_count": null,
   "id": "de8e2977",
   "metadata": {},
   "outputs": [],
   "source": []
  }
 ],
 "metadata": {
  "kernelspec": {
   "display_name": "Python 3 (ipykernel)",
   "language": "python",
   "name": "python3"
  },
  "language_info": {
   "codemirror_mode": {
    "name": "ipython",
    "version": 3
   },
   "file_extension": ".py",
   "mimetype": "text/x-python",
   "name": "python",
   "nbconvert_exporter": "python",
   "pygments_lexer": "ipython3",
   "version": "3.9.7"
  }
 },
 "nbformat": 4,
 "nbformat_minor": 5
}
