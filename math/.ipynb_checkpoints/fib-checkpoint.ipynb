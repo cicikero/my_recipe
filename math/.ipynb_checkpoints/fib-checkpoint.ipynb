{
 "cells": [
  {
   "cell_type": "code",
   "execution_count": 2,
   "id": "e66ff15e",
   "metadata": {},
   "outputs": [
    {
     "name": "stdout",
     "output_type": "stream",
     "text": [
      "39088169\n",
      "Calculation time: 10.053454160690308 seconds\n"
     ]
    }
   ],
   "source": [
    "import time\n",
    "\n",
    "start_time = time.time()\n",
    "\n",
    "def fib(n):\n",
    "    if n < 2: return n\n",
    "    return fib(n - 2) + fib(n - 1)\n",
    " \n",
    "print(fib(38))\n",
    "\n",
    "end_time = time.time()\n",
    "\n",
    "print(f\"Calculation time: {end_time - start_time} seconds\")"
   ]
  },
  {
   "cell_type": "code",
   "execution_count": 3,
   "id": "d563288e",
   "metadata": {},
   "outputs": [
    {
     "name": "stdout",
     "output_type": "stream",
     "text": [
      "The 38th Fibonacci number is: 39088169\n",
      "Calculation time: 0.00011777877807617188 seconds\n"
     ]
    }
   ],
   "source": [
    "import time\n",
    "\n",
    "def fibonacci(n):\n",
    "    if n == 0:\n",
    "        return 0\n",
    "    elif n == 1:\n",
    "        return 1\n",
    "    else:\n",
    "        fib = [0, 1]\n",
    "        for i in range(2, n+1):\n",
    "            fib.append(fib[i-1] + fib[i-2])\n",
    "        return fib[n]\n",
    "\n",
    "start_time = time.time()\n",
    "n = 38 # 計算するフィボナッチ数の位置\n",
    "result = fibonacci(n)\n",
    "end_time = time.time()\n",
    "\n",
    "print(f\"The {n}th Fibonacci number is: {result}\")\n",
    "print(f\"Calculation time: {end_time - start_time} seconds\")\n"
   ]
  },
  {
   "cell_type": "code",
   "execution_count": null,
   "id": "a3ab827c",
   "metadata": {},
   "outputs": [],
   "source": []
  }
 ],
 "metadata": {
  "kernelspec": {
   "display_name": "Python 3 (ipykernel)",
   "language": "python",
   "name": "python3"
  },
  "language_info": {
   "codemirror_mode": {
    "name": "ipython",
    "version": 3
   },
   "file_extension": ".py",
   "mimetype": "text/x-python",
   "name": "python",
   "nbconvert_exporter": "python",
   "pygments_lexer": "ipython3",
   "version": "3.8.13"
  }
 },
 "nbformat": 4,
 "nbformat_minor": 5
}
