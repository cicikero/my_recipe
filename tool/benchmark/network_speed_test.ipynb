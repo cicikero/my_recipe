{
 "cells": [
  {
   "cell_type": "code",
   "execution_count": 1,
   "id": "b712c07d",
   "metadata": {},
   "outputs": [
    {
     "name": "stdout",
     "output_type": "stream",
     "text": [
      "Download speed: 8.40 Mbps\n",
      "Upload speed: 9.09 Mbps\n",
      "Ping: 60.03 ms\n"
     ]
    }
   ],
   "source": [
    "import speedtest\n",
    "\n",
    "st = speedtest.Speedtest()\n",
    "download_speed = st.download() / 10**6  # Mbps\n",
    "upload_speed = st.upload() / 10**6  # Mbps\n",
    "ping = st.results.ping  # ms\n",
    "\n",
    "print(f\"Download speed: {download_speed:.2f} Mbps\")\n",
    "print(f\"Upload speed: {upload_speed:.2f} Mbps\")\n",
    "print(f\"Ping: {ping:.2f} ms\")\n"
   ]
  },
  {
   "cell_type": "code",
   "execution_count": null,
   "id": "1f67b2b8",
   "metadata": {},
   "outputs": [],
   "source": []
  }
 ],
 "metadata": {
  "kernelspec": {
   "display_name": "Python 3 (ipykernel)",
   "language": "python",
   "name": "python3"
  },
  "language_info": {
   "codemirror_mode": {
    "name": "ipython",
    "version": 3
   },
   "file_extension": ".py",
   "mimetype": "text/x-python",
   "name": "python",
   "nbconvert_exporter": "python",
   "pygments_lexer": "ipython3",
   "version": "3.9.16"
  }
 },
 "nbformat": 4,
 "nbformat_minor": 5
}
