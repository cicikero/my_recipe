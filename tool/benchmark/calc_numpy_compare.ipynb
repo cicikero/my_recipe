{
 "cells": [
  {
   "cell_type": "code",
   "execution_count": null,
   "id": "a222c719",
   "metadata": {},
   "outputs": [],
   "source": [
    "import numpy as np\n",
    "import time\n",
    "\n",
    "# numpy を使わない場合\n",
    "def calc_without_numpy(n):\n",
    "    x = [[i for i in range(n)] for j in range(n)]\n",
    "    y = [[0 for i in range(n)] for j in range(n)]\n",
    "    start = time.time()\n",
    "    for i in range(n):\n",
    "        for j in range(n):\n",
    "            y[i][j] = x[i][j] + x[(i+1)%n][j] - x[(i+1)%n][(j+1)%n] * x[i][(j+1)%n]\n",
    "    end = time.time()\n",
    "    return end - start\n",
    "\n",
    "# numpy を使う場合\n",
    "def calc_with_numpy(n):\n",
    "    x = np.arange(n*n).reshape((n,n))\n",
    "    y = np.zeros((n,n))\n",
    "    start = time.time()\n",
    "    y = x + np.roll(x, -1, axis=0) - np.roll(x, -1, axis=1) * np.roll(x, -1, axis=(0,1))\n",
    "    end = time.time()\n",
    "    return end - start\n",
    "\n",
    "# 計算速度を比較する\n",
    "n = 10000 # 行列のサイズ\n",
    "t1 = calc_without_numpy(n)\n",
    "t2 = calc_with_numpy(n)\n",
    "print(f\"numpy を使わない場合: {t1:.3f}秒\")\n",
    "print(f\"numpy を使う場合: {t2:.3f}秒\")\n",
    "print(f\"numpy の方が {t1/t2:.2f}倍速い\")"
   ]
  },
  {
   "cell_type": "code",
   "execution_count": null,
   "id": "466761db",
   "metadata": {},
   "outputs": [],
   "source": []
  }
 ],
 "metadata": {
  "kernelspec": {
   "display_name": "Python 3 (ipykernel)",
   "language": "python",
   "name": "python3"
  },
  "language_info": {
   "codemirror_mode": {
    "name": "ipython",
    "version": 3
   },
   "file_extension": ".py",
   "mimetype": "text/x-python",
   "name": "python",
   "nbconvert_exporter": "python",
   "pygments_lexer": "ipython3",
   "version": "3.9.16"
  }
 },
 "nbformat": 4,
 "nbformat_minor": 5
}
