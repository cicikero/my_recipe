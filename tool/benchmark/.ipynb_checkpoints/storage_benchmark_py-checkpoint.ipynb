{
 "cells": [
  {
   "cell_type": "code",
   "execution_count": 1,
   "id": "82ad276e",
   "metadata": {},
   "outputs": [
    {
     "name": "stdout",
     "output_type": "stream",
     "text": [
      "平均書き込み速度: 929.4211693953501 MB/s\n",
      "平均読み込み速度: 1021.2400730502101 MB/s\n"
     ]
    }
   ],
   "source": [
    "import time\n",
    "import os\n",
    "\n",
    "def measure_storage_speed(file_path, data):\n",
    "    # 計測回数と結果の初期化\n",
    "    num_measurements = 5\n",
    "    write_speeds = []\n",
    "    read_speeds = []\n",
    "\n",
    "    for _ in range(num_measurements):\n",
    "        # ファイルへの書き込みを計測\n",
    "        start_time = time.time()\n",
    "        with open(file_path, 'wb') as f:\n",
    "            f.write(data)\n",
    "        end_time = time.time()\n",
    "        write_time = end_time - start_time\n",
    "\n",
    "        # ファイルからの読み込みを計測\n",
    "        start_time = time.time()\n",
    "        with open(file_path, 'rb') as f:\n",
    "            read_data = f.read()\n",
    "        end_time = time.time()\n",
    "        read_time = end_time - start_time\n",
    "\n",
    "        # 1秒あたりの書き込み/読み込み容量を計算\n",
    "        write_speed = len(data) / write_time / (1024 * 1024)  # MB/s\n",
    "        read_speed = len(read_data) / read_time / (1024 * 1024)  # MB/s\n",
    "\n",
    "        # 計測結果をリストに追加\n",
    "        write_speeds.append(write_speed)\n",
    "        read_speeds.append(read_speed)\n",
    "\n",
    "        # ファイルを削除\n",
    "        os.remove(file_path)\n",
    "\n",
    "    return write_speeds, read_speeds\n",
    "\n",
    "\n",
    "# 使用例\n",
    "file_path = 'test_file.txt'\n",
    "data_sizes = [1024 * 1024, 10 * 1024 * 1024, 100 * 1024 * 1024]  # 1MB, 10MB, 100MB\n",
    "num_measurements = 5\n",
    "\n",
    "all_write_speeds = []\n",
    "all_read_speeds = []\n",
    "\n",
    "for data_size in data_sizes:\n",
    "    data = b'Hello, World!' * (data_size // len(b'Hello, World!'))\n",
    "\n",
    "    write_speeds, read_speeds = measure_storage_speed(file_path, data)\n",
    "    all_write_speeds.extend(write_speeds)\n",
    "    all_read_speeds.extend(read_speeds)\n",
    "\n",
    "# 全計測結果の平均速度を計算\n",
    "average_write_speed = sum(all_write_speeds) / len(all_write_speeds)\n",
    "average_read_speed = sum(all_read_speeds) / len(all_read_speeds)\n",
    "\n",
    "# 結果を出力\n",
    "print(f'平均書き込み速度: {average_write_speed} MB/s')\n",
    "print(f'平均読み込み速度: {average_read_speed} MB/s')\n"
   ]
  },
  {
   "cell_type": "code",
   "execution_count": null,
   "id": "58c10af8",
   "metadata": {},
   "outputs": [],
   "source": []
  }
 ],
 "metadata": {
  "kernelspec": {
   "display_name": "Python 3 (ipykernel)",
   "language": "python",
   "name": "python3"
  },
  "language_info": {
   "codemirror_mode": {
    "name": "ipython",
    "version": 3
   },
   "file_extension": ".py",
   "mimetype": "text/x-python",
   "name": "python",
   "nbconvert_exporter": "python",
   "pygments_lexer": "ipython3",
   "version": "3.9.16"
  }
 },
 "nbformat": 4,
 "nbformat_minor": 5
}
