{
 "cells": [
  {
   "cell_type": "code",
   "execution_count": null,
   "id": "4319b716",
   "metadata": {},
   "outputs": [],
   "source": [
    "from pptx import Presentation\n",
    "from pptx.enum.shapes import MSO_SHAPE_TYPE\n",
    "from IPython.display import display, Image\n",
    "\n",
    "# PowerPointファイルを読み込む\n",
    "prs = Presentation('test.pptx')\n",
    "\n",
    "# スライドごとにループする\n",
    "for i, slide in enumerate(prs.slides):\n",
    "    # スライド内のすべてのオブジェクトにループする\n",
    "    for shape in slide.shapes:\n",
    "        # 形状が画像であるかどうかを確認する\n",
    "        if shape.shape_type == MSO_SHAPE_TYPE.PICTURE:\n",
    "            image = shape.image\n",
    "            # 画像を縮小して表示する\n",
    "            display(Image(data=image.blob, width=300, height=200))\n",
    "        # 形状がテキストボックスであるかどうかを確認する\n",
    "        elif shape.has_text_frame:\n",
    "            text_frame = shape.text_frame\n",
    "            # テキストフレームのテキストを抽出する\n",
    "            text = text_frame.text\n",
    "            print(text)    "
   ]
  }
 ],
 "metadata": {
  "kernelspec": {
   "display_name": "Python 3 (ipykernel)",
   "language": "python",
   "name": "python3"
  },
  "language_info": {
   "codemirror_mode": {
    "name": "ipython",
    "version": 3
   },
   "file_extension": ".py",
   "mimetype": "text/x-python",
   "name": "python",
   "nbconvert_exporter": "python",
   "pygments_lexer": "ipython3",
   "version": "3.9.16"
  }
 },
 "nbformat": 4,
 "nbformat_minor": 5
}
